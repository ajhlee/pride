{
 "cells": [
  {
   "cell_type": "code",
   "execution_count": 2,
   "metadata": {},
   "outputs": [],
   "source": [
    "import numpy as np"
   ]
  },
  {
   "cell_type": "markdown",
   "metadata": {},
   "source": [
    "# Temoa's model\n",
    "\n",
    "Hydrogen cost:\n",
    "* \\$ 13.11/kg [1](https://cafcp.org/content/cost-refill): 2019 price of hydrogen in Californian re-fuelling stations.\n",
    "* \\$ 6/kg [2](https://www.powermag.com/how-much-will-hydrogen-based-power-cost/): hydrogen cost from electrolysis in 2020 (region not specified).\n",
    "* \\$ 4/kg [3](https://www.energy.gov/sites/prod/files/2017/11/f46/HPTT%20Roadmap%20FY17%20Final_Nov%202017.pdf): DOE's target.\n",
    "\n",
    "EVs capital investment:\n",
    "* 2018 Sedan, BEV-250 (Battery Electric Vehicles w/ 250-mile range): \\$ 58,000 / 75 kWh [1](https://theicct.org/sites/default/files/publications/EV_cost_2020_2030_20190401.pdf).\n",
    "\n",
    "* 2018 SUV, BEV-250: \\$ 83,000 / 128 kWh [1](https://theicct.org/sites/default/files/publications/EV_cost_2020_2030_20190401.pdf).\n",
    "\n",
    "FCEVs capital investment:\n",
    "* 2017 Toyota Mirai: \\$ 57,000 [1](https://www.hydrogen.energy.gov/pdfs/progress17/v_e_5_james_2017.pdf) / 5.6 kg [2](https://h2.live/en/wasserstoffautos/toyota-mirai#:~:text=The%20carbon%20fibre%2Dreinforced%20plastic,a%20range%20of%20500%20km.)\n",
    "\n",
    "* 2020 Hiunday Nexo (SUV): \\$ 58,735 [1](https://www.hyundaiusa.com/us/en/vehicles/nexo) / 6.33 kg [2](https://h2.live/en/wasserstoffautos/toyota-mirai#:~:text=The%20carbon%20fibre%2Dreinforced%20plastic,a%20range%20of%20500%20km.)\n",
    "\n",
    "* Nikola Motor (pickup truck): \\$ 80,000 [3](https://www.forbes.com/sites/alanohnsman/2020/06/29/hydrogen-truckmaker-nikola-opens-badger-pickup-reservationsahead-of-production-plans/?sh=259f195332ba) / 8 kg [4](https://nikolamotor.com/badger). Not sure about the last one, it seems like they will never make a single vehicle.\n"
   ]
  },
  {
   "cell_type": "code",
   "execution_count": 6,
   "metadata": {},
   "outputs": [
    {
     "name": "stdout",
     "output_type": "stream",
     "text": [
      "0.0007108854166666667 M$/kWh\n",
      "0.022931787634408604 M$/GGE\n"
     ]
    }
   ],
   "source": [
    "evcost = []\n",
    "evcost.append(58000/75)\n",
    "evcost.append(83000/128)\n",
    "print(np.average(np.array(evcost))/1e6, 'M$/kWh')\n",
    "print(np.average(np.array(evcost))/1e6/0.031, 'M$/GGE')"
   ]
  },
  {
   "cell_type": "code",
   "execution_count": 5,
   "metadata": {},
   "outputs": [
    {
     "name": "stdout",
     "output_type": "stream",
     "text": [
      "0.011645367862784925 M$/kg\n",
      "0.011645367862784925 M$/GGE\n"
     ]
    }
   ],
   "source": [
    "fcevcost = []\n",
    "fcevcost.append(57000/5.6)\n",
    "fcevcost.append(83000/6.33)\n",
    "print(np.average(np.array(fcevcost))/1e6, 'M$/kg')\n",
    "print(np.average(np.array(fcevcost))/1.0/1e6, 'M$/GGE')"
   ]
  }
 ],
 "metadata": {
  "kernelspec": {
   "display_name": "Python 3",
   "language": "python",
   "name": "python3"
  },
  "language_info": {
   "codemirror_mode": {
    "name": "ipython",
    "version": 3
   },
   "file_extension": ".py",
   "mimetype": "text/x-python",
   "name": "python",
   "nbconvert_exporter": "python",
   "pygments_lexer": "ipython3",
   "version": "3.8.3"
  }
 },
 "nbformat": 4,
 "nbformat_minor": 4
}
